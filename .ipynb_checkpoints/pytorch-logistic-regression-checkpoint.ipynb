{
 "cells": [
  {
   "cell_type": "code",
   "execution_count": 1,
   "metadata": {
    "collapsed": true
   },
   "outputs": [],
   "source": [
    "import torch\n",
    "from torch.autograd import Variable\n",
    "import numpy as np"
   ]
  },
  {
   "cell_type": "code",
   "execution_count": 2,
   "metadata": {},
   "outputs": [
    {
     "name": "stdout",
     "output_type": "stream",
     "text": [
      "x1=[-1.], df/dx1=0.393\n",
      "x2=[-2.], df/dx2=-0.590\n",
      "w1=[ 2.], df/dw1=-0.197\n",
      "w2=[-3.], df/dw2=-0.393\n",
      "w3=[-3.], df/dw3=0.197\n"
     ]
    }
   ],
   "source": [
    "# Declare input values\n",
    "x1 = Variable(torch.Tensor([-1]), requires_grad=True)\n",
    "x1.name = \"x1\"\n",
    "x2 = Variable(torch.Tensor([-2]), requires_grad=True)\n",
    "x2.name = \"x2\"\n",
    "w1 = Variable(torch.Tensor([2]), requires_grad=True)\n",
    "w1.name = \"w1\"\n",
    "w2 = Variable(torch.Tensor([-3]), requires_grad=True)\n",
    "w2.name = \"w2\"\n",
    "w3 = Variable(torch.Tensor([-3]), requires_grad=True)\n",
    "w3.name = \"w3\"\n",
    "\n",
    "# Form expression using overloaded +,-,*, and / operators\n",
    "# Use special T methods to achieve other operations\n",
    "s = 1 / (1 + torch.exp(-1*(x1*w1+x2*w2+w3)))\n",
    "s.name= \"out\" # just here so the printouts looks better\n",
    "\n",
    "#compute gradients\n",
    "s.backward()\n",
    "\n",
    "# Specify inputs we declared \n",
    "inputs = [x1,x2,w1,w2,w3]\n",
    "\n",
    "# Call T.grad(s,_) on every input to represent gradient\n",
    "gradients = [i.grad for i in inputs]\n",
    "\n",
    "for (k,v) in zip(inputs, gradients): print \"%s=%5s, df/d%s=%.03f\"% (k.name, k.data.numpy(),k.name, v.data.numpy())"
   ]
  },
  {
   "cell_type": "code",
   "execution_count": null,
   "metadata": {
    "collapsed": true
   },
   "outputs": [],
   "source": []
  },
  {
   "cell_type": "code",
   "execution_count": null,
   "metadata": {
    "collapsed": true
   },
   "outputs": [],
   "source": []
  },
  {
   "cell_type": "code",
   "execution_count": 31,
   "metadata": {
    "collapsed": true
   },
   "outputs": [],
   "source": [
    "from graphviz import Digraph\n",
    "\n",
    "def make_dot(var, params):\n",
    "    \"\"\" Produces Graphviz representation of PyTorch autograd graph\n",
    "    \n",
    "    Blue nodes are the Variables that require grad, orange are Tensors\n",
    "    saved for backward in torch.autograd.Function\n",
    "    \n",
    "    Args:\n",
    "        var: output Variable\n",
    "        params: dict of (name, Variable) to add names to node that\n",
    "            require grad (TODO: make optional)\n",
    "                \"\"\"\n",
    "    param_map = {id(v): k for k, v in params.items()}\n",
    "    print(param_map)\n",
    "    \n",
    "    node_attr = dict(style='filled',\n",
    "                     shape='box',\n",
    "                     align='left',\n",
    "                     fontsize='12',\n",
    "                     ranksep='0.1',\n",
    "                     height='0.2'\n",
    "                    )\n",
    "    dot = Digraph(node_attr=node_attr, graph_attr=dict(size=\"12,12\",rankdir=\"LR\"))\n",
    "    seen = set()\n",
    "    \n",
    "    def size_to_str(size):\n",
    "        return '('+(', ').join(['%d'% v for v in size])+')'\n",
    "\n",
    "    def add_nodes(var):\n",
    "        if var not in seen:\n",
    "            if torch.is_tensor(var):\n",
    "                dot.node(str(id(var)), size_to_str(var.size()), fillcolor='orange')\n",
    "            elif hasattr(var, 'variable'):\n",
    "                u = var.variable\n",
    "                node_name = '%s\\n %s' % (param_map.get(id(u)), size_to_str(u.size()))\n",
    "                dot.node(str(id(var)), node_name, fillcolor='lightblue')\n",
    "            else:\n",
    "                dot.node(str(id(var)), str(type(var).__name__))\n",
    "            seen.add(var)\n",
    "            if hasattr(var, 'next_functions'):\n",
    "                for u in var.next_functions:\n",
    "                    if u[0] is not None:\n",
    "                        dot.edge(str(id(u[0])), str(id(var)))\n",
    "                        add_nodes(u[0])\n",
    "            if hasattr(var, 'saved_tensors'):\n",
    "                for t in var.saved_tensors:\n",
    "                    dot.edge(str(id(t)), str(id(var)))\n",
    "                    add_nodes(t)\n",
    "    add_nodes(var.grad_fn)\n",
    "    return dot"
   ]
  },
  {
   "cell_type": "code",
   "execution_count": null,
   "metadata": {
    "collapsed": true
   },
   "outputs": [],
   "source": []
  },
  {
   "cell_type": "code",
   "execution_count": null,
   "metadata": {
    "collapsed": true
   },
   "outputs": [],
   "source": []
  },
  {
   "cell_type": "code",
   "execution_count": 32,
   "metadata": {},
   "outputs": [
    {
     "name": "stdout",
     "output_type": "stream",
     "text": [
      "{140426904914352: 'x2', 140426904912624: 'x1', 140426904915888: 'w2', 140426904957008: 'w3', 140426904912720: 'w1'}\n"
     ]
    },
    {
     "data": {
      "image/svg+xml": [
       "<?xml version=\"1.0\" encoding=\"UTF-8\" standalone=\"no\"?>\n",
       "<!DOCTYPE svg PUBLIC \"-//W3C//DTD SVG 1.1//EN\"\n",
       " \"http://www.w3.org/Graphics/SVG/1.1/DTD/svg11.dtd\">\n",
       "<!-- Generated by graphviz version 2.36.0 (20140111.2315)\n",
       " -->\n",
       "<!-- Title: %3 Pages: 1 -->\n",
       "<svg width=\"864pt\" height=\"140pt\"\n",
       " viewBox=\"0.00 0.00 864.00 140.45\" xmlns=\"http://www.w3.org/2000/svg\" xmlns:xlink=\"http://www.w3.org/1999/xlink\">\n",
       "<g id=\"graph0\" class=\"graph\" transform=\"scale(0.70936 0.70936) rotate(0) translate(4 194)\">\n",
       "<title>%3</title>\n",
       "<polygon fill=\"white\" stroke=\"none\" points=\"-4,4 -4,-194 1214,-194 1214,4 -4,4\"/>\n",
       "<!-- 140426906330160 -->\n",
       "<g id=\"node1\" class=\"node\"><title>140426906330160</title>\n",
       "<polygon fill=\"lightgrey\" stroke=\"black\" points=\"1210,-82.5 1052,-82.5 1052,-61.5 1210,-61.5 1210,-82.5\"/>\n",
       "<text text-anchor=\"middle\" x=\"1131\" y=\"-68.9\" font-family=\"Times,serif\" font-size=\"12.00\">DivConstantBackward</text>\n",
       "</g>\n",
       "<!-- 140426906329912 -->\n",
       "<g id=\"node2\" class=\"node\"><title>140426906329912</title>\n",
       "<polygon fill=\"lightgrey\" stroke=\"black\" points=\"1015.5,-82.5 852.5,-82.5 852.5,-61.5 1015.5,-61.5 1015.5,-82.5\"/>\n",
       "<text text-anchor=\"middle\" x=\"934\" y=\"-68.9\" font-family=\"Times,serif\" font-size=\"12.00\">AddConstantBackward</text>\n",
       "</g>\n",
       "<!-- 140426906329912&#45;&gt;140426906330160 -->\n",
       "<g id=\"edge1\" class=\"edge\"><title>140426906329912&#45;&gt;140426906330160</title>\n",
       "<path fill=\"none\" stroke=\"black\" d=\"M1015.72,-72C1024.31,-72 1033.07,-72 1041.74,-72\"/>\n",
       "<polygon fill=\"black\" stroke=\"black\" points=\"1041.85,-75.5001 1051.85,-72 1041.85,-68.5001 1041.85,-75.5001\"/>\n",
       "</g>\n",
       "<!-- 140426906329664 -->\n",
       "<g id=\"node3\" class=\"node\"><title>140426906329664</title>\n",
       "<polygon fill=\"lightgrey\" stroke=\"black\" points=\"816,-82.5 712,-82.5 712,-61.5 816,-61.5 816,-82.5\"/>\n",
       "<text text-anchor=\"middle\" x=\"764\" y=\"-68.9\" font-family=\"Times,serif\" font-size=\"12.00\">ExpBackward</text>\n",
       "</g>\n",
       "<!-- 140426906329664&#45;&gt;140426906329912 -->\n",
       "<g id=\"edge2\" class=\"edge\"><title>140426906329664&#45;&gt;140426906329912</title>\n",
       "<path fill=\"none\" stroke=\"black\" d=\"M816.318,-72C824.591,-72 833.365,-72 842.241,-72\"/>\n",
       "<polygon fill=\"black\" stroke=\"black\" points=\"842.283,-75.5001 852.283,-72 842.283,-68.5001 842.283,-75.5001\"/>\n",
       "</g>\n",
       "<!-- 140426906329416 -->\n",
       "<g id=\"node4\" class=\"node\"><title>140426906329416</title>\n",
       "<polygon fill=\"lightgrey\" stroke=\"black\" points=\"675.5,-82.5 514.5,-82.5 514.5,-61.5 675.5,-61.5 675.5,-82.5\"/>\n",
       "<text text-anchor=\"middle\" x=\"595\" y=\"-68.9\" font-family=\"Times,serif\" font-size=\"12.00\">MulConstantBackward</text>\n",
       "</g>\n",
       "<!-- 140426906329416&#45;&gt;140426906329664 -->\n",
       "<g id=\"edge3\" class=\"edge\"><title>140426906329416&#45;&gt;140426906329664</title>\n",
       "<path fill=\"none\" stroke=\"black\" d=\"M675.587,-72C684.307,-72 693.084,-72 701.536,-72\"/>\n",
       "<polygon fill=\"black\" stroke=\"black\" points=\"701.66,-75.5001 711.66,-72 701.66,-68.5001 701.66,-75.5001\"/>\n",
       "</g>\n",
       "<!-- 140426906329168 -->\n",
       "<g id=\"node5\" class=\"node\"><title>140426906329168</title>\n",
       "<polygon fill=\"lightgrey\" stroke=\"black\" points=\"477.5,-82.5 372.5,-82.5 372.5,-61.5 477.5,-61.5 477.5,-82.5\"/>\n",
       "<text text-anchor=\"middle\" x=\"425\" y=\"-68.9\" font-family=\"Times,serif\" font-size=\"12.00\">AddBackward</text>\n",
       "</g>\n",
       "<!-- 140426906329168&#45;&gt;140426906329416 -->\n",
       "<g id=\"edge4\" class=\"edge\"><title>140426906329168&#45;&gt;140426906329416</title>\n",
       "<path fill=\"none\" stroke=\"black\" d=\"M477.776,-72C486.182,-72 495.095,-72 504.1,-72\"/>\n",
       "<polygon fill=\"black\" stroke=\"black\" points=\"504.282,-75.5001 514.282,-72 504.282,-68.5001 504.282,-75.5001\"/>\n",
       "</g>\n",
       "<!-- 140428117008088 -->\n",
       "<g id=\"node6\" class=\"node\"><title>140428117008088</title>\n",
       "<polygon fill=\"lightgrey\" stroke=\"black\" points=\"335.5,-105.5 230.5,-105.5 230.5,-84.5 335.5,-84.5 335.5,-105.5\"/>\n",
       "<text text-anchor=\"middle\" x=\"283\" y=\"-91.9\" font-family=\"Times,serif\" font-size=\"12.00\">AddBackward</text>\n",
       "</g>\n",
       "<!-- 140428117008088&#45;&gt;140426906329168 -->\n",
       "<g id=\"edge5\" class=\"edge\"><title>140428117008088&#45;&gt;140426906329168</title>\n",
       "<path fill=\"none\" stroke=\"black\" d=\"M335.733,-86.501C344.448,-85.0692 353.57,-83.5706 362.504,-82.1029\"/>\n",
       "<polygon fill=\"black\" stroke=\"black\" points=\"363.179,-85.539 372.48,-80.4641 362.044,-78.6316 363.179,-85.539\"/>\n",
       "</g>\n",
       "<!-- 140428117007592 -->\n",
       "<g id=\"node7\" class=\"node\"><title>140428117007592</title>\n",
       "<polygon fill=\"lightgrey\" stroke=\"black\" points=\"194,-131.5 90,-131.5 90,-110.5 194,-110.5 194,-131.5\"/>\n",
       "<text text-anchor=\"middle\" x=\"142\" y=\"-117.9\" font-family=\"Times,serif\" font-size=\"12.00\">MulBackward</text>\n",
       "</g>\n",
       "<!-- 140428117007592&#45;&gt;140428117008088 -->\n",
       "<g id=\"edge6\" class=\"edge\"><title>140428117007592&#45;&gt;140428117008088</title>\n",
       "<path fill=\"none\" stroke=\"black\" d=\"M194.364,-111.392C202.812,-109.812 211.646,-108.16 220.315,-106.538\"/>\n",
       "<polygon fill=\"black\" stroke=\"black\" points=\"221.198,-109.934 230.384,-104.655 219.91,-103.053 221.198,-109.934\"/>\n",
       "</g>\n",
       "<!-- 140426709549136 -->\n",
       "<g id=\"node8\" class=\"node\"><title>140426709549136</title>\n",
       "<polygon fill=\"lightblue\" stroke=\"black\" points=\"54,-190 0,-190 0,-156 54,-156 54,-190\"/>\n",
       "<text text-anchor=\"middle\" x=\"27\" y=\"-176.4\" font-family=\"Times,serif\" font-size=\"12.00\">x1</text>\n",
       "<text text-anchor=\"middle\" x=\"27\" y=\"-163.4\" font-family=\"Times,serif\" font-size=\"12.00\"> (1)</text>\n",
       "</g>\n",
       "<!-- 140426709549136&#45;&gt;140428117007592 -->\n",
       "<g id=\"edge7\" class=\"edge\"><title>140426709549136&#45;&gt;140428117007592</title>\n",
       "<path fill=\"none\" stroke=\"black\" d=\"M54.2085,-160.939C70.6017,-153.396 91.8252,-143.629 109.181,-135.642\"/>\n",
       "<polygon fill=\"black\" stroke=\"black\" points=\"110.749,-138.774 118.37,-131.414 107.823,-132.415 110.749,-138.774\"/>\n",
       "</g>\n",
       "<!-- 140426709549200 -->\n",
       "<g id=\"node9\" class=\"node\"><title>140426709549200</title>\n",
       "<polygon fill=\"lightblue\" stroke=\"black\" points=\"54,-138 0,-138 0,-104 54,-104 54,-138\"/>\n",
       "<text text-anchor=\"middle\" x=\"27\" y=\"-124.4\" font-family=\"Times,serif\" font-size=\"12.00\">w1</text>\n",
       "<text text-anchor=\"middle\" x=\"27\" y=\"-111.4\" font-family=\"Times,serif\" font-size=\"12.00\"> (1)</text>\n",
       "</g>\n",
       "<!-- 140426709549200&#45;&gt;140428117007592 -->\n",
       "<g id=\"edge8\" class=\"edge\"><title>140426709549200&#45;&gt;140428117007592</title>\n",
       "<path fill=\"none\" stroke=\"black\" d=\"M54.2085,-121C61.8825,-121 70.615,-121 79.5138,-121\"/>\n",
       "<polygon fill=\"black\" stroke=\"black\" points=\"79.5839,-124.5 89.5838,-121 79.5838,-117.5 79.5839,-124.5\"/>\n",
       "</g>\n",
       "<!-- 140428117007840 -->\n",
       "<g id=\"node10\" class=\"node\"><title>140428117007840</title>\n",
       "<polygon fill=\"lightgrey\" stroke=\"black\" points=\"194,-79.5 90,-79.5 90,-58.5 194,-58.5 194,-79.5\"/>\n",
       "<text text-anchor=\"middle\" x=\"142\" y=\"-65.9\" font-family=\"Times,serif\" font-size=\"12.00\">MulBackward</text>\n",
       "</g>\n",
       "<!-- 140428117007840&#45;&gt;140428117008088 -->\n",
       "<g id=\"edge9\" class=\"edge\"><title>140428117007840&#45;&gt;140428117008088</title>\n",
       "<path fill=\"none\" stroke=\"black\" d=\"M194.364,-78.6076C202.812,-80.1879 211.646,-81.8402 220.315,-83.4618\"/>\n",
       "<polygon fill=\"black\" stroke=\"black\" points=\"219.91,-86.9468 230.384,-85.3451 221.198,-80.0661 219.91,-86.9468\"/>\n",
       "</g>\n",
       "<!-- 140426709549264 -->\n",
       "<g id=\"node11\" class=\"node\"><title>140426709549264</title>\n",
       "<polygon fill=\"lightblue\" stroke=\"black\" points=\"54,-86 0,-86 0,-52 54,-52 54,-86\"/>\n",
       "<text text-anchor=\"middle\" x=\"27\" y=\"-72.4\" font-family=\"Times,serif\" font-size=\"12.00\">x2</text>\n",
       "<text text-anchor=\"middle\" x=\"27\" y=\"-59.4\" font-family=\"Times,serif\" font-size=\"12.00\"> (1)</text>\n",
       "</g>\n",
       "<!-- 140426709549264&#45;&gt;140428117007840 -->\n",
       "<g id=\"edge10\" class=\"edge\"><title>140426709549264&#45;&gt;140428117007840</title>\n",
       "<path fill=\"none\" stroke=\"black\" d=\"M54.2085,-69C61.8825,-69 70.615,-69 79.5138,-69\"/>\n",
       "<polygon fill=\"black\" stroke=\"black\" points=\"79.5839,-72.5001 89.5838,-69 79.5838,-65.5001 79.5839,-72.5001\"/>\n",
       "</g>\n",
       "<!-- 140426709549328 -->\n",
       "<g id=\"node12\" class=\"node\"><title>140426709549328</title>\n",
       "<polygon fill=\"lightblue\" stroke=\"black\" points=\"54,-34 0,-34 0,-0 54,-0 54,-34\"/>\n",
       "<text text-anchor=\"middle\" x=\"27\" y=\"-20.4\" font-family=\"Times,serif\" font-size=\"12.00\">w2</text>\n",
       "<text text-anchor=\"middle\" x=\"27\" y=\"-7.4\" font-family=\"Times,serif\" font-size=\"12.00\"> (1)</text>\n",
       "</g>\n",
       "<!-- 140426709549328&#45;&gt;140428117007840 -->\n",
       "<g id=\"edge11\" class=\"edge\"><title>140426709549328&#45;&gt;140428117007840</title>\n",
       "<path fill=\"none\" stroke=\"black\" d=\"M54.2085,-29.0605C70.6017,-36.6043 91.8252,-46.3709 109.181,-54.3578\"/>\n",
       "<polygon fill=\"black\" stroke=\"black\" points=\"107.823,-57.5855 118.37,-58.5864 110.749,-51.2265 107.823,-57.5855\"/>\n",
       "</g>\n",
       "<!-- 140426709398800 -->\n",
       "<g id=\"node13\" class=\"node\"><title>140426709398800</title>\n",
       "<polygon fill=\"lightblue\" stroke=\"black\" points=\"310,-66 256,-66 256,-32 310,-32 310,-66\"/>\n",
       "<text text-anchor=\"middle\" x=\"283\" y=\"-52.4\" font-family=\"Times,serif\" font-size=\"12.00\">w3</text>\n",
       "<text text-anchor=\"middle\" x=\"283\" y=\"-39.4\" font-family=\"Times,serif\" font-size=\"12.00\"> (1)</text>\n",
       "</g>\n",
       "<!-- 140426709398800&#45;&gt;140426906329168 -->\n",
       "<g id=\"edge12\" class=\"edge\"><title>140426709398800&#45;&gt;140426906329168</title>\n",
       "<path fill=\"none\" stroke=\"black\" d=\"M310.005,-53.2722C324.75,-55.6946 343.875,-58.8366 362.234,-61.8528\"/>\n",
       "<polygon fill=\"black\" stroke=\"black\" points=\"361.887,-65.3425 372.322,-63.5101 363.022,-58.4351 361.887,-65.3425\"/>\n",
       "</g>\n",
       "</g>\n",
       "</svg>\n"
      ],
      "text/plain": [
       "<graphviz.dot.Digraph at 0x7fb7a420df50>"
      ]
     },
     "execution_count": 32,
     "metadata": {},
     "output_type": "execute_result"
    }
   ],
   "source": [
    "mapping = dict([(k.name,k) for k in inputs])\n",
    "g = make_dot(s, mapping)\n",
    "g"
   ]
  },
  {
   "cell_type": "code",
   "execution_count": null,
   "metadata": {
    "collapsed": true
   },
   "outputs": [],
   "source": []
  }
 ],
 "metadata": {
  "kernelspec": {
   "display_name": "Python 2",
   "language": "python",
   "name": "python2"
  },
  "language_info": {
   "codemirror_mode": {
    "name": "ipython",
    "version": 2
   },
   "file_extension": ".py",
   "mimetype": "text/x-python",
   "name": "python",
   "nbconvert_exporter": "python",
   "pygments_lexer": "ipython2",
   "version": "2.7.13"
  }
 },
 "nbformat": 4,
 "nbformat_minor": 2
}
